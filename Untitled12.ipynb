{
 "cells": [
  {
   "cell_type": "code",
   "execution_count": 1,
   "id": "a17c690c-5a86-43ec-88f9-73e493ca5aa2",
   "metadata": {},
   "outputs": [],
   "source": [
    "# %pip install sentence-transformers umap-learn embetter"
   ]
  },
  {
   "cell_type": "code",
   "execution_count": 2,
   "id": "6a40ca87-3e8e-4e39-8b5c-35c9dfdd3ceb",
   "metadata": {},
   "outputs": [
    {
     "name": "stderr",
     "output_type": "stream",
     "text": [
      "/usr/local/python/3.12.1/lib/python3.12/site-packages/transformers/tokenization_utils_base.py:1601: FutureWarning: `clean_up_tokenization_spaces` was not set. It will be set to `True` by default. This behavior will be depracted in transformers v4.45, and will be then set to `False` by default. For more details check this issue: https://github.com/huggingface/transformers/issues/31884\n",
      "  warnings.warn(\n"
     ]
    }
   ],
   "source": [
    "import pandas as pd\n",
    "from umap import UMAP\n",
    "from sklearn.pipeline import make_pipeline \n",
    "\n",
    "# pip install \"embetter[text]\"\n",
    "from embetter.text import SentenceEncoder\n",
    "\n",
    "# Build a sentence encoder pipeline with UMAP at the end.\n",
    "enc = SentenceEncoder('all-MiniLM-L6-v2')\n",
    "umap = UMAP()\n",
    "\n",
    "text_emb_pipeline = make_pipeline(\n",
    "  enc, umap\n",
    ")\n",
    "\n",
    "# Load sentences\n",
    "sentences = list(pd.read_csv(\"tests/data/text.csv\")['text'])\n",
    "\n",
    "# Calculate embeddings \n",
    "X_tfm = text_emb_pipeline.fit_transform(sentences)\n",
    "\n",
    "# Write to disk. Note! Text column must be named \"text\"\n",
    "df = pd.DataFrame({\"text\": sentences})\n",
    "df['x'] = X_tfm[:, 0]\n",
    "df['y'] = X_tfm[:, 1]"
   ]
  },
  {
   "cell_type": "code",
   "execution_count": 3,
   "id": "1c7064a3-9558-4ca9-841b-6a21f7ea1f27",
   "metadata": {},
   "outputs": [],
   "source": [
    "X = enc.transform(sentences)"
   ]
  },
  {
   "cell_type": "code",
   "execution_count": 4,
   "id": "7e5ba2db-883f-4184-86dc-95d3560b2c24",
   "metadata": {},
   "outputs": [],
   "source": [
    "%load_ext autoreload\n",
    "%autoreload 2"
   ]
  },
  {
   "cell_type": "code",
   "execution_count": 7,
   "id": "bd1f22ef-a1c6-444d-be3c-751428af5a1f",
   "metadata": {},
   "outputs": [],
   "source": [
    "import numpy as np\n",
    "\n",
    "np.save(\"utils/X.npz\", X)\n",
    "np.save(\"utils/X_tfm\", X_tfm)\n",
    "df.to_csv(\"utils/df.csv\", index=False)"
   ]
  },
  {
   "cell_type": "code",
   "execution_count": 1,
   "id": "ae6a77ec-33ec-446d-8db9-147677c93492",
   "metadata": {},
   "outputs": [],
   "source": [
    "import numpy as np\n",
    "import pandas as pd\n",
    "\n",
    "X = np.load(\"utils/X.npz.npy\")\n",
    "X_tfm = np.load(\"utils/X_tfm.npz.npy\")\n",
    "df = pd.read_csv(\"utils/df.csv\")"
   ]
  },
  {
   "cell_type": "code",
   "execution_count": 2,
   "id": "daaf355b-ac0c-4399-be72-647eea085a38",
   "metadata": {},
   "outputs": [],
   "source": [
    "from bulk.widgets import BaseTextExplorer"
   ]
  },
  {
   "cell_type": "code",
   "execution_count": 4,
   "id": "8fd86dd9-1f83-4358-a85b-2b719f1001fc",
   "metadata": {},
   "outputs": [],
   "source": [
    "widget = BaseTextExplorer(df)"
   ]
  },
  {
   "cell_type": "code",
   "execution_count": 6,
   "id": "0f46378f-5534-48ae-a9b2-a839d3a751a0",
   "metadata": {},
   "outputs": [
    {
     "data": {
      "application/vnd.jupyter.widget-view+json": {
       "model_id": "2723abb0029a420696708f73de877cf1",
       "version_major": 2,
       "version_minor": 0
      },
      "text/plain": [
       "HBox(children=(HBox(children=(VBox(children=(Button(button_style='primary', icon='arrows', layout=Layout(width…"
      ]
     },
     "execution_count": 6,
     "metadata": {},
     "output_type": "execute_result"
    }
   ],
   "source": [
    "widget.show()"
   ]
  },
  {
   "cell_type": "code",
   "execution_count": 7,
   "id": "f410b06d-ab52-4436-aec4-6cd3639d0026",
   "metadata": {},
   "outputs": [
    {
     "data": {
      "application/vnd.jupyter.widget-view+json": {
       "model_id": "c432479b541b4cdda6df2d9bfadfe682",
       "version_major": 2,
       "version_minor": 0
      },
      "text/plain": [
       "HBox(children=(HBox(children=(VBox(children=(Button(button_style='primary', icon='arrows', layout=Layout(width…"
      ]
     },
     "execution_count": 7,
     "metadata": {},
     "output_type": "execute_result"
    }
   ],
   "source": [
    "import jscatter\n",
    "import numpy as np\n",
    "import pandas as pd\n",
    "from ipywidgets import HBox, VBox, HTML, Layout, Button, Text\n",
    "from IPython.display import display\n",
    "from sklearn.metrics.pairwise import cosine_similarity\n",
    "\n",
    "class BaseTextExplorer:\n",
    "    def __init__(self, dataf, X=None, encoder=None):\n",
    "        self.dataf = dataf\n",
    "        self.scatter = jscatter.Scatter(data=self.dataf, x=\"x\", y=\"y\", width=500, height=500)\n",
    "        self.html = HTML(layout=Layout(width='600px', overflow_y='scroll', height='400px'))\n",
    "        self.sample_btn = Button(description='resample')\n",
    "        self.elem = HBox([self.scatter.show(), VBox([self.sample_btn, self.html])])\n",
    "        self.X = X\n",
    "        self.encoder = encoder\n",
    "        \n",
    "        if self.encoder and (self.X is not None):\n",
    "            self.text_input = Text(value='', placeholder='Type something', description='String:')\n",
    "            self.elem = HBox([VBox([self.text_input, self.scatter.show()]), VBox([self.sample_btn, self.html])])\n",
    "\n",
    "            def update_text(change):\n",
    "                X_tfm = encoder.transform([self.text_input.value])\n",
    "                dists = cosine_similarity(X, X_tfm).reshape(1, -1)\n",
    "                self.dists = dists\n",
    "                norm_dists = 0.01 + (dists - dists.min())/(0.1 + dists.max() - dists.min())\n",
    "                print(norm_dists)\n",
    "                explorer.scatter.color(by=norm_dists[0])\n",
    "                explorer.scatter.size(by=norm_dists[0])\n",
    "\n",
    "            self.text_input.observe(update_text)\n",
    "        \n",
    "        self.scatter.widget.observe(lambda d: self.update(), ['selection'])\n",
    "        self.sample_btn.on_click(lambda d: self.update())\n",
    "\n",
    "    def show(self):\n",
    "        return self.elem\n",
    "\n",
    "    def update(self):\n",
    "        if len(self.scatter.selection()) > 10:\n",
    "            texts = self.dataf.iloc[self.scatter.selection()].sample(10)[\"text\"]\n",
    "        else:\n",
    "            texts = self.dataf.iloc[self.scatter.selection()][\"text\"]\n",
    "        self.html.value = ''.join([f'<p style=\"margin: 0px\">{t}</p>' for t in texts])\n",
    "\n",
    "    def observe(self, func):\n",
    "        self.scatter.widget.observe(func, ['selection'])\n",
    "        \n",
    "    @property\n",
    "    def selected_idx(self):\n",
    "        return self.scatter.selection()\n",
    "\n",
    "    @property\n",
    "    def selected_texts(self):\n",
    "        return list(self.dataf.iloc[self.selection_idx][\"text\"])\n",
    "\n",
    "    @property\n",
    "    def selected_dataframe(self):\n",
    "        return self.dataf.iloc[self.selection_idx]\n",
    "\n",
    "    def _repr_html_(self):\n",
    "        return display(self.elem)\n",
    "\n",
    "explorer = BaseTextExplorer(df)\n",
    "explorer.show()"
   ]
  },
  {
   "cell_type": "code",
   "execution_count": null,
   "id": "55668ebd-6887-4352-a967-63ad26759bc7",
   "metadata": {},
   "outputs": [],
   "source": [
    "from sklearn.decomposition import PCA\n",
    "\n",
    "pca = PCA(n_components=2)\n",
    "text_emb_pipeline = make_pipeline(\n",
    "  enc, pca\n",
    ")\n",
    "\n",
    "# Calculate embeddings \n",
    "X_tfm_pca = pca.fit_transform(X)\n",
    "\n",
    "# Write to disk. Note! Text column must be named \"text\"\n",
    "df = pd.DataFrame({\"text\": sentences})\n",
    "df['x'] = X_tfm_pca[:, 0]\n",
    "df['y'] = X_tfm_pca[:, 1]"
   ]
  },
  {
   "cell_type": "code",
   "execution_count": null,
   "id": "14626a98-3bc7-48c1-af09-ca90cd1a1add",
   "metadata": {},
   "outputs": [],
   "source": [
    "explorer = BaseTextExplorer(df, encoder=enc, X=X)\n",
    "explorer.show()"
   ]
  },
  {
   "cell_type": "code",
   "execution_count": null,
   "id": "0953f217-7cf6-4f50-8711-9514e8013f56",
   "metadata": {},
   "outputs": [],
   "source": [
    "import altair as alt\n",
    "import pandas as pd\n",
    "import numpy as np\n",
    "\n",
    "rand = np.random.RandomState(42)\n",
    "\n",
    "df = pd.DataFrame({\n",
    "    'xval': range(100),\n",
    "    'yval': rand.randn(100).cumsum()\n",
    "})\n",
    "\n",
    "slider = alt.binding_range(min=0, max=100, step=1)\n",
    "cutoff = alt.param(name=\"cutoff\", bind=slider, value=50)\n",
    "\n",
    "chart = alt.Chart(df).mark_point().encode(\n",
    "    x='xval',\n",
    "    y='yval',\n",
    "    color=alt.condition(\n",
    "        alt.datum.xval < cutoff,\n",
    "        alt.value('red'), alt.value('blue')\n",
    "    )\n",
    ").add_params(\n",
    "    cutoff\n",
    ")\n",
    "jchart = alt.JupyterChart(chart)\n",
    "jchart"
   ]
  },
  {
   "cell_type": "code",
   "execution_count": null,
   "id": "256562ab-9db9-4be3-b4ee-76c83448f84e",
   "metadata": {},
   "outputs": [],
   "source": [
    "jchart.params"
   ]
  },
  {
   "cell_type": "code",
   "execution_count": null,
   "id": "a4dd5e43-5638-418e-b7fe-5733e1d899fb",
   "metadata": {},
   "outputs": [],
   "source": [
    "import altair as alt\n",
    "from vega_datasets import data\n",
    "\n",
    "source = alt.UrlData(\n",
    "    data.flights_2k.url,\n",
    "    format={'parse': {'date': 'date'}}\n",
    ")\n",
    "\n",
    "brush = alt.selection_interval(name='select',encodings=['x'])\n",
    "\n",
    "# Define the base chart, with the common parts of the\n",
    "# background and highlights\n",
    "base = alt.Chart(width=160, height=130).mark_bar().encode(\n",
    "    x=alt.X(alt.repeat('column')).bin(maxbins=20),\n",
    "    y='count()'\n",
    ")\n",
    "\n",
    "# gray background with selection\n",
    "background = base.encode(\n",
    "    color=alt.value('#ddd')\n",
    ").add_params(brush)\n",
    "\n",
    "# blue highlights on the transformed data\n",
    "highlight = base.transform_filter(brush)\n",
    "\n",
    "# layer the two charts & repeat\n",
    "c = alt.JupyterChart(alt.layer(\n",
    "    background,\n",
    "    highlight,\n",
    "    data=source\n",
    ").transform_calculate(\n",
    "    \"time\",\n",
    "    \"hours(datum.date)\"\n",
    ").repeat(column=[\"distance\", \"delay\", \"time\"]))"
   ]
  },
  {
   "cell_type": "code",
   "execution_count": null,
   "id": "1cf5dffb-6b87-448d-9eda-e465c59be1c6",
   "metadata": {},
   "outputs": [],
   "source": [
    "c"
   ]
  },
  {
   "cell_type": "code",
   "execution_count": null,
   "id": "81b0b089-0315-4d0f-9423-5e774ad3fc9a",
   "metadata": {},
   "outputs": [],
   "source": [
    "c.selections"
   ]
  },
  {
   "cell_type": "code",
   "execution_count": null,
   "id": "32e2b06c-773f-46d8-b51c-10efe88a3e54",
   "metadata": {},
   "outputs": [],
   "source": []
  }
 ],
 "metadata": {
  "kernelspec": {
   "display_name": "Python 3 (ipykernel)",
   "language": "python",
   "name": "python3"
  },
  "language_info": {
   "codemirror_mode": {
    "name": "ipython",
    "version": 3
   },
   "file_extension": ".py",
   "mimetype": "text/x-python",
   "name": "python",
   "nbconvert_exporter": "python",
   "pygments_lexer": "ipython3",
   "version": "3.12.1"
  }
 },
 "nbformat": 4,
 "nbformat_minor": 5
}
