{
 "cells": [
  {
   "cell_type": "code",
   "execution_count": 1,
   "id": "6a40ca87-3e8e-4e39-8b5c-35c9dfdd3ceb",
   "metadata": {},
   "outputs": [],
   "source": [
    "import pandas as pd\n",
    "from umap import UMAP\n",
    "from sklearn.pipeline import make_pipeline \n",
    "\n",
    "# pip install \"embetter[text]\"\n",
    "from embetter.text import SentenceEncoder\n",
    "\n",
    "# Build a sentence encoder pipeline with UMAP at the end.\n",
    "enc = SentenceEncoder('all-MiniLM-L6-v2')\n",
    "umap = UMAP()\n",
    "\n",
    "text_emb_pipeline = make_pipeline(\n",
    "  enc, umap\n",
    ")\n",
    "\n",
    "# Load sentences\n",
    "sentences = list(pd.read_csv(\"tests/data/text.csv\")['text'])\n",
    "\n",
    "# Calculate embeddings \n",
    "X_tfm = text_emb_pipeline.fit_transform(sentences)\n",
    "\n",
    "# Write to disk. Note! Text column must be named \"text\"\n",
    "df = pd.DataFrame({\"text\": sentences})\n",
    "df['x'] = X_tfm[:, 0]\n",
    "df['y'] = X_tfm[:, 1]"
   ]
  },
  {
   "cell_type": "code",
   "execution_count": 2,
   "id": "1c7064a3-9558-4ca9-841b-6a21f7ea1f27",
   "metadata": {},
   "outputs": [],
   "source": [
    "X = enc.transform(sentences)"
   ]
  },
  {
   "cell_type": "code",
   "execution_count": 3,
   "id": "f410b06d-ab52-4436-aec4-6cd3639d0026",
   "metadata": {},
   "outputs": [
    {
     "data": {
      "application/vnd.jupyter.widget-view+json": {
       "model_id": "85a84c8facf74b79887c29265bfad96e",
       "version_major": 2,
       "version_minor": 0
      },
      "text/plain": [
       "HBox(children=(VBox(children=(Text(value='', description='String:', placeholder='Type something'), HBox(childr…"
      ]
     },
     "execution_count": 3,
     "metadata": {},
     "output_type": "execute_result"
    }
   ],
   "source": [
    "import jscatter\n",
    "import numpy as np\n",
    "import pandas as pd\n",
    "from ipywidgets import HBox, VBox, HTML, Layout, Button, Text\n",
    "from IPython.display import display\n",
    "from sklearn.metrics.pairwise import cosine_similarity\n",
    "\n",
    "class BaseTextExplorer:\n",
    "    def __init__(self, dataf, X=None, encoder=None):\n",
    "        self.dataf = dataf\n",
    "        self.scatter = jscatter.Scatter(data=self.dataf, x=\"x\", y=\"y\", width=500, height=500)\n",
    "        self.html = HTML(layout=Layout(width='600px', overflow_y='scroll', height='400px'))\n",
    "        self.sample_btn = Button(description='resample')\n",
    "        self.elem = HBox([self.scatter.show(), VBox([self.sample_btn, self.html])])\n",
    "        self.X = X\n",
    "        self.encoder = encoder\n",
    "        \n",
    "        if self.encoder and (self.X is not None):\n",
    "            self.text_input = Text(value='', placeholder='Type something', description='String:')\n",
    "            self.elem = HBox([VBox([self.text_input, self.scatter.show()]), VBox([self.sample_btn, self.html])])\n",
    "\n",
    "            def update_text(change):\n",
    "                X_tfm = encoder.transform([self.text_input.value])\n",
    "                dists = cosine_similarity(X, X_tfm).reshape(1, -1)\n",
    "                self.dists = dists\n",
    "                norm_dists = 0.01 + (dists - dists.min())/(0.1 + dists.max() - dists.min())\n",
    "                print(norm_dists)\n",
    "                explorer.scatter.color(by=norm_dists[0])\n",
    "                explorer.scatter.size(by=norm_dists[0])\n",
    "\n",
    "            self.text_input.observe(update_text)\n",
    "        \n",
    "        self.scatter.widget.observe(lambda d: self.update(), ['selection'])\n",
    "        self.sample_btn.on_click(lambda d: self.update())\n",
    "\n",
    "    def show(self):\n",
    "        return self.elem\n",
    "\n",
    "    def update(self):\n",
    "        if len(self.scatter.selection()) > 10:\n",
    "            texts = self.dataf.iloc[self.scatter.selection()].sample(10)[\"text\"]\n",
    "        else:\n",
    "            texts = self.dataf.iloc[self.scatter.selection()][\"text\"]\n",
    "        self.html.value = ''.join([f'<p style=\"margin: 0px\">{t}</p>' for t in texts])\n",
    "\n",
    "    def observe(self, func):\n",
    "        self.scatter.widget.observe(func, ['selection'])\n",
    "        \n",
    "    @property\n",
    "    def selected_idx(self):\n",
    "        return self.scatter.selection()\n",
    "\n",
    "    @property\n",
    "    def selected_texts(self):\n",
    "        return list(self.dataf.iloc[self.selection_idx][\"text\"])\n",
    "\n",
    "    @property\n",
    "    def selected_dataframe(self):\n",
    "        return self.dataf.iloc[self.selection_idx]\n",
    "\n",
    "    def _repr_html_(self):\n",
    "        return display(self.elem)\n",
    "\n",
    "explorer = BaseTextExplorer(df, encoder=enc, X=X)\n",
    "explorer.show()"
   ]
  },
  {
   "cell_type": "code",
   "execution_count": 8,
   "id": "55668ebd-6887-4352-a967-63ad26759bc7",
   "metadata": {},
   "outputs": [],
   "source": [
    "from sklearn.decomposition import PCA\n",
    "\n",
    "pca = PCA(n_components=2)\n",
    "text_emb_pipeline = make_pipeline(\n",
    "  enc, pca\n",
    ")\n",
    "\n",
    "# Calculate embeddings \n",
    "X_tfm_pca = pca.fit_transform(X)\n",
    "\n",
    "# Write to disk. Note! Text column must be named \"text\"\n",
    "df = pd.DataFrame({\"text\": sentences})\n",
    "df['x'] = X_tfm_pca[:, 0]\n",
    "df['y'] = X_tfm_pca[:, 1]"
   ]
  },
  {
   "cell_type": "code",
   "execution_count": 9,
   "id": "14626a98-3bc7-48c1-af09-ca90cd1a1add",
   "metadata": {},
   "outputs": [
    {
     "data": {
      "application/vnd.jupyter.widget-view+json": {
       "model_id": "938d1ff742114fb6b0d1754458bfa784",
       "version_major": 2,
       "version_minor": 0
      },
      "text/plain": [
       "HBox(children=(VBox(children=(Text(value='', description='String:', placeholder='Type something'), HBox(childr…"
      ]
     },
     "execution_count": 9,
     "metadata": {},
     "output_type": "execute_result"
    }
   ],
   "source": [
    "explorer = BaseTextExplorer(df, encoder=enc, X=X)\n",
    "explorer.show()"
   ]
  },
  {
   "cell_type": "code",
   "execution_count": 29,
   "id": "0953f217-7cf6-4f50-8711-9514e8013f56",
   "metadata": {},
   "outputs": [
    {
     "data": {
      "application/vnd.jupyter.widget-view+json": {
       "model_id": "03704e689fee48928854d9f13ca50c83",
       "version_major": 2,
       "version_minor": 1
      },
      "text/plain": [
       "JupyterChart(spec={'config': {'view': {'continuousWidth': 300, 'continuousHeight': 300}}, 'data': {'name': 'da…"
      ]
     },
     "execution_count": 29,
     "metadata": {},
     "output_type": "execute_result"
    }
   ],
   "source": [
    "import altair as alt\n",
    "import pandas as pd\n",
    "import numpy as np\n",
    "\n",
    "rand = np.random.RandomState(42)\n",
    "\n",
    "df = pd.DataFrame({\n",
    "    'xval': range(100),\n",
    "    'yval': rand.randn(100).cumsum()\n",
    "})\n",
    "\n",
    "slider = alt.binding_range(min=0, max=100, step=1)\n",
    "cutoff = alt.param(name=\"cutoff\", bind=slider, value=50)\n",
    "\n",
    "chart = alt.Chart(df).mark_point().encode(\n",
    "    x='xval',\n",
    "    y='yval',\n",
    "    color=alt.condition(\n",
    "        alt.datum.xval < cutoff,\n",
    "        alt.value('red'), alt.value('blue')\n",
    "    )\n",
    ").add_params(\n",
    "    cutoff\n",
    ")\n",
    "jchart = alt.JupyterChart(chart)\n",
    "jchart"
   ]
  },
  {
   "cell_type": "code",
   "execution_count": 30,
   "id": "256562ab-9db9-4be3-b4ee-76c83448f84e",
   "metadata": {},
   "outputs": [
    {
     "data": {
      "text/plain": [
       "Params({'cutoff': 50.0})"
      ]
     },
     "execution_count": 30,
     "metadata": {},
     "output_type": "execute_result"
    }
   ],
   "source": [
    "jchart.params"
   ]
  },
  {
   "cell_type": "code",
   "execution_count": 37,
   "id": "a4dd5e43-5638-418e-b7fe-5733e1d899fb",
   "metadata": {},
   "outputs": [],
   "source": [
    "import altair as alt\n",
    "from vega_datasets import data\n",
    "\n",
    "source = alt.UrlData(\n",
    "    data.flights_2k.url,\n",
    "    format={'parse': {'date': 'date'}}\n",
    ")\n",
    "\n",
    "brush = alt.selection_interval(name='select',encodings=['x'])\n",
    "\n",
    "# Define the base chart, with the common parts of the\n",
    "# background and highlights\n",
    "base = alt.Chart(width=160, height=130).mark_bar().encode(\n",
    "    x=alt.X(alt.repeat('column')).bin(maxbins=20),\n",
    "    y='count()'\n",
    ")\n",
    "\n",
    "# gray background with selection\n",
    "background = base.encode(\n",
    "    color=alt.value('#ddd')\n",
    ").add_params(brush)\n",
    "\n",
    "# blue highlights on the transformed data\n",
    "highlight = base.transform_filter(brush)\n",
    "\n",
    "# layer the two charts & repeat\n",
    "c = alt.JupyterChart(alt.layer(\n",
    "    background,\n",
    "    highlight,\n",
    "    data=source\n",
    ").transform_calculate(\n",
    "    \"time\",\n",
    "    \"hours(datum.date)\"\n",
    ").repeat(column=[\"distance\", \"delay\", \"time\"]))"
   ]
  },
  {
   "cell_type": "code",
   "execution_count": 38,
   "id": "1cf5dffb-6b87-448d-9eda-e465c59be1c6",
   "metadata": {},
   "outputs": [
    {
     "data": {
      "application/vnd.jupyter.widget-view+json": {
       "model_id": "071f441b660548be9651698962f69cbc",
       "version_major": 2,
       "version_minor": 1
      },
      "text/plain": [
       "JupyterChart(spec={'config': {'view': {'continuousWidth': 300, 'continuousHeight': 300}}, 'repeat': {'column':…"
      ]
     },
     "execution_count": 38,
     "metadata": {},
     "output_type": "execute_result"
    }
   ],
   "source": [
    "c"
   ]
  },
  {
   "cell_type": "code",
   "execution_count": 39,
   "id": "81b0b089-0315-4d0f-9423-5e774ad3fc9a",
   "metadata": {},
   "outputs": [
    {
     "data": {
      "text/plain": [
       "Selections({'select': IntervalSelection(name='select', value={}, store=[])})"
      ]
     },
     "execution_count": 39,
     "metadata": {},
     "output_type": "execute_result"
    }
   ],
   "source": [
    "c.selections"
   ]
  },
  {
   "cell_type": "code",
   "execution_count": null,
   "id": "32e2b06c-773f-46d8-b51c-10efe88a3e54",
   "metadata": {},
   "outputs": [],
   "source": []
  }
 ],
 "metadata": {
  "kernelspec": {
   "display_name": "Python 3 (ipykernel)",
   "language": "python",
   "name": "python3"
  },
  "language_info": {
   "codemirror_mode": {
    "name": "ipython",
    "version": 3
   },
   "file_extension": ".py",
   "mimetype": "text/x-python",
   "name": "python",
   "nbconvert_exporter": "python",
   "pygments_lexer": "ipython3",
   "version": "3.10.13"
  }
 },
 "nbformat": 4,
 "nbformat_minor": 5
}
