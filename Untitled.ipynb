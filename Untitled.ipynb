{
 "cells": [
  {
   "cell_type": "code",
   "execution_count": 3,
   "id": "6a40ca87-3e8e-4e39-8b5c-35c9dfdd3ceb",
   "metadata": {},
   "outputs": [
    {
     "data": {
      "application/vnd.jupyter.widget-view+json": {
       "model_id": "5c5d029622e0459b8e56ea3df8617929",
       "version_major": 2,
       "version_minor": 0
      },
      "text/plain": [
       "modules.json:   0%|          | 0.00/349 [00:00<?, ?B/s]"
      ]
     },
     "metadata": {},
     "output_type": "display_data"
    },
    {
     "data": {
      "application/vnd.jupyter.widget-view+json": {
       "model_id": "9a211a97a45e4a9aa57768350400d7c6",
       "version_major": 2,
       "version_minor": 0
      },
      "text/plain": [
       "config_sentence_transformers.json:   0%|          | 0.00/116 [00:00<?, ?B/s]"
      ]
     },
     "metadata": {},
     "output_type": "display_data"
    },
    {
     "data": {
      "application/vnd.jupyter.widget-view+json": {
       "model_id": "b4f2ef5a5a3040919d3f457e0e49c29d",
       "version_major": 2,
       "version_minor": 0
      },
      "text/plain": [
       "README.md:   0%|          | 0.00/10.7k [00:00<?, ?B/s]"
      ]
     },
     "metadata": {},
     "output_type": "display_data"
    },
    {
     "data": {
      "application/vnd.jupyter.widget-view+json": {
       "model_id": "2dcc9374e4224a8bb48862524de6fb3e",
       "version_major": 2,
       "version_minor": 0
      },
      "text/plain": [
       "sentence_bert_config.json:   0%|          | 0.00/53.0 [00:00<?, ?B/s]"
      ]
     },
     "metadata": {},
     "output_type": "display_data"
    },
    {
     "data": {
      "application/vnd.jupyter.widget-view+json": {
       "model_id": "c7c99d73d56548c6937ee4da9eb07024",
       "version_major": 2,
       "version_minor": 0
      },
      "text/plain": [
       "config.json:   0%|          | 0.00/612 [00:00<?, ?B/s]"
      ]
     },
     "metadata": {},
     "output_type": "display_data"
    },
    {
     "data": {
      "application/vnd.jupyter.widget-view+json": {
       "model_id": "dce81c4c84e148c097defb3c44774761",
       "version_major": 2,
       "version_minor": 0
      },
      "text/plain": [
       "model.safetensors:   0%|          | 0.00/90.9M [00:00<?, ?B/s]"
      ]
     },
     "metadata": {},
     "output_type": "display_data"
    },
    {
     "data": {
      "application/vnd.jupyter.widget-view+json": {
       "model_id": "b1bc3ae88e8c46ee9c02893b60480925",
       "version_major": 2,
       "version_minor": 0
      },
      "text/plain": [
       "tokenizer_config.json:   0%|          | 0.00/350 [00:00<?, ?B/s]"
      ]
     },
     "metadata": {},
     "output_type": "display_data"
    },
    {
     "data": {
      "application/vnd.jupyter.widget-view+json": {
       "model_id": "c541798ff9e149278b301e2bcc1bb60d",
       "version_major": 2,
       "version_minor": 0
      },
      "text/plain": [
       "vocab.txt:   0%|          | 0.00/232k [00:00<?, ?B/s]"
      ]
     },
     "metadata": {},
     "output_type": "display_data"
    },
    {
     "data": {
      "application/vnd.jupyter.widget-view+json": {
       "model_id": "d4a563e0606f4c8384fed19e63ece00e",
       "version_major": 2,
       "version_minor": 0
      },
      "text/plain": [
       "tokenizer.json:   0%|          | 0.00/466k [00:00<?, ?B/s]"
      ]
     },
     "metadata": {},
     "output_type": "display_data"
    },
    {
     "data": {
      "application/vnd.jupyter.widget-view+json": {
       "model_id": "9b143e079e6347409150d1b9e6e5c245",
       "version_major": 2,
       "version_minor": 0
      },
      "text/plain": [
       "special_tokens_map.json:   0%|          | 0.00/112 [00:00<?, ?B/s]"
      ]
     },
     "metadata": {},
     "output_type": "display_data"
    },
    {
     "data": {
      "application/vnd.jupyter.widget-view+json": {
       "model_id": "259df381256640b68577ba1989221d7c",
       "version_major": 2,
       "version_minor": 0
      },
      "text/plain": [
       "1_Pooling/config.json:   0%|          | 0.00/190 [00:00<?, ?B/s]"
      ]
     },
     "metadata": {},
     "output_type": "display_data"
    }
   ],
   "source": [
    "import pandas as pd\n",
    "from umap import UMAP\n",
    "from sklearn.pipeline import make_pipeline \n",
    "\n",
    "# pip install \"embetter[text]\"\n",
    "from embetter.text import SentenceEncoder\n",
    "\n",
    "# Build a sentence encoder pipeline with UMAP at the end.\n",
    "text_emb_pipeline = make_pipeline(\n",
    "  SentenceEncoder('all-MiniLM-L6-v2'),\n",
    "  UMAP()\n",
    ")\n",
    "\n",
    "# Load sentences\n",
    "sentences = list(pd.read_csv(\"tests/data/text.csv\")['text'])\n",
    "\n",
    "# Calculate embeddings \n",
    "X_tfm = text_emb_pipeline.fit_transform(sentences)\n",
    "\n",
    "# Write to disk. Note! Text column must be named \"text\"\n",
    "df = pd.DataFrame({\"text\": sentences})\n",
    "df['x'] = X_tfm[:, 0]\n",
    "df['y'] = X_tfm[:, 1]"
   ]
  },
  {
   "cell_type": "code",
   "execution_count": 46,
   "id": "f410b06d-ab52-4436-aec4-6cd3639d0026",
   "metadata": {},
   "outputs": [
    {
     "data": {
      "application/vnd.jupyter.widget-view+json": {
       "model_id": "af54019442a1430c8eeca21cd34ebadd",
       "version_major": 2,
       "version_minor": 0
      },
      "text/plain": [
       "HBox(children=(HBox(children=(VBox(children=(Button(button_style='primary', icon='arrows', layout=Layout(width…"
      ]
     },
     "execution_count": 46,
     "metadata": {},
     "output_type": "execute_result"
    }
   ],
   "source": [
    "import jscatter\n",
    "import numpy as np\n",
    "import pandas as pd\n",
    "from ipywidgets import HBox, HTML, Layout\n",
    "\n",
    "scatter = jscatter.Scatter(data=df, x=\"x\", y=\"y\",)\n",
    "html = HTML(layout=Layout(width='50%'))\n",
    "elem = HBox([scatter.show(), html])\n",
    "\n",
    "scatter.widget.observe(lambda d: update(), ['selection'])\n",
    "\n",
    "def update():\n",
    "    texts = df.iloc[scatter.selection()].head(10)[\"text\"]\n",
    "    html.value = '<br/>'.join(texts)\n",
    "\n",
    "elem"
   ]
  },
  {
   "cell_type": "code",
   "execution_count": 44,
   "id": "c677ba47-e9e5-4f0f-b875-667360131dbc",
   "metadata": {},
   "outputs": [],
   "source": [
    "scatter.widget.observe(lambda d: update(), ['selection'])"
   ]
  },
  {
   "cell_type": "code",
   "execution_count": 45,
   "id": "cac944a4-c621-444e-ba01-d4d7d3ed7d78",
   "metadata": {},
   "outputs": [],
   "source": [
    "def update():\n",
    "    texts = df.iloc[scatter.selection()].head(10)[\"text\"]\n",
    "    html.value = '<br/>'.join(texts)"
   ]
  },
  {
   "cell_type": "code",
   "execution_count": 34,
   "id": "85c8f534-b80b-480f-8fae-f6747a386183",
   "metadata": {},
   "outputs": [],
   "source": [
    "html.value = \"yeah\""
   ]
  },
  {
   "cell_type": "code",
   "execution_count": null,
   "id": "7fde88fd-5e20-44b8-ba30-5c75c05bb288",
   "metadata": {},
   "outputs": [],
   "source": []
  }
 ],
 "metadata": {
  "kernelspec": {
   "display_name": "Python 3 (ipykernel)",
   "language": "python",
   "name": "python3"
  },
  "language_info": {
   "codemirror_mode": {
    "name": "ipython",
    "version": 3
   },
   "file_extension": ".py",
   "mimetype": "text/x-python",
   "name": "python",
   "nbconvert_exporter": "python",
   "pygments_lexer": "ipython3",
   "version": "3.10.13"
  }
 },
 "nbformat": 4,
 "nbformat_minor": 5
}
