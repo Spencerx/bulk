{
 "cells": [
  {
   "cell_type": "code",
   "execution_count": 1,
   "id": "6a40ca87-3e8e-4e39-8b5c-35c9dfdd3ceb",
   "metadata": {},
   "outputs": [],
   "source": [
    "import pandas as pd\n",
    "from umap import UMAP\n",
    "from sklearn.pipeline import make_pipeline \n",
    "\n",
    "# pip install \"embetter[text]\"\n",
    "from embetter.text import SentenceEncoder\n",
    "\n",
    "# Build a sentence encoder pipeline with UMAP at the end.\n",
    "text_emb_pipeline = make_pipeline(\n",
    "  SentenceEncoder('all-MiniLM-L6-v2'),\n",
    "  UMAP()\n",
    ")\n",
    "\n",
    "# Load sentences\n",
    "sentences = list(pd.read_csv(\"tests/data/text.csv\")['text'])\n",
    "\n",
    "# Calculate embeddings \n",
    "X_tfm = text_emb_pipeline.fit_transform(sentences)\n",
    "\n",
    "# Write to disk. Note! Text column must be named \"text\"\n",
    "df = pd.DataFrame({\"text\": sentences})\n",
    "df['x'] = X_tfm[:, 0]\n",
    "df['y'] = X_tfm[:, 1]"
   ]
  },
  {
   "cell_type": "code",
   "execution_count": 23,
   "id": "f410b06d-ab52-4436-aec4-6cd3639d0026",
   "metadata": {},
   "outputs": [
    {
     "data": {
      "application/vnd.jupyter.widget-view+json": {
       "model_id": "f19a2fe75a4f419f819060b86d77e39c",
       "version_major": 2,
       "version_minor": 0
      },
      "text/plain": [
       "HBox(children=(HBox(children=(VBox(children=(Button(button_style='primary', icon='arrows', layout=Layout(width…"
      ]
     },
     "execution_count": 23,
     "metadata": {},
     "output_type": "execute_result"
    }
   ],
   "source": [
    "import jscatter\n",
    "import numpy as np\n",
    "import pandas as pd\n",
    "from ipywidgets import HBox, VBox, HTML, Layout, Button\n",
    "\n",
    "scatter = jscatter.Scatter(data=df, x=\"x\", y=\"y\",)\n",
    "html = HTML(layout=Layout(width='600px', overflow_y='scroll', height='400px'))\n",
    "sample_btn = Button(description='resample')\n",
    "elem = HBox([scatter.show(), VBox([sample_btn, html])])\n",
    "\n",
    "scatter.widget.observe(lambda d: update(), ['selection'])\n",
    "sample_btn.on_click(lambda d: update())\n",
    "\n",
    "def update():\n",
    "    texts = df.iloc[scatter.selection()].sample(10)[\"text\"]\n",
    "    html.value = ''.join([f'<p style=\"margin: 0px\">{t}</p>' for t in texts])\n",
    "\n",
    "elem"
   ]
  },
  {
   "cell_type": "code",
   "execution_count": 3,
   "id": "c677ba47-e9e5-4f0f-b875-667360131dbc",
   "metadata": {},
   "outputs": [],
   "source": [
    "scatter.widget.observe(lambda d: update(), ['selection'])"
   ]
  },
  {
   "cell_type": "code",
   "execution_count": 4,
   "id": "cac944a4-c621-444e-ba01-d4d7d3ed7d78",
   "metadata": {},
   "outputs": [],
   "source": [
    "def update():\n",
    "    texts = df.iloc[scatter.selection()].sample(10)[\"text\"]\n",
    "    html.value = '<br/>'.join([f'<p>{t}</p>' for t in texts])"
   ]
  },
  {
   "cell_type": "code",
   "execution_count": null,
   "id": "7fde88fd-5e20-44b8-ba30-5c75c05bb288",
   "metadata": {},
   "outputs": [],
   "source": []
  }
 ],
 "metadata": {
  "kernelspec": {
   "display_name": "Python 3 (ipykernel)",
   "language": "python",
   "name": "python3"
  },
  "language_info": {
   "codemirror_mode": {
    "name": "ipython",
    "version": 3
   },
   "file_extension": ".py",
   "mimetype": "text/x-python",
   "name": "python",
   "nbconvert_exporter": "python",
   "pygments_lexer": "ipython3",
   "version": "3.10.13"
  }
 },
 "nbformat": 4,
 "nbformat_minor": 5
}
