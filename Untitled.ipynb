{
 "cells": [
  {
   "cell_type": "code",
   "execution_count": 1,
   "id": "6a40ca87-3e8e-4e39-8b5c-35c9dfdd3ceb",
   "metadata": {},
   "outputs": [],
   "source": [
    "import pandas as pd\n",
    "from umap import UMAP\n",
    "from sklearn.pipeline import make_pipeline \n",
    "\n",
    "# pip install \"embetter[text]\"\n",
    "from embetter.text import SentenceEncoder\n",
    "\n",
    "# Build a sentence encoder pipeline with UMAP at the end.\n",
    "text_emb_pipeline = make_pipeline(\n",
    "  SentenceEncoder('all-MiniLM-L6-v2'),\n",
    "  UMAP()\n",
    ")\n",
    "\n",
    "# Load sentences\n",
    "sentences = list(pd.read_csv(\"tests/data/text.csv\")['text'])\n",
    "\n",
    "# Calculate embeddings \n",
    "X_tfm = text_emb_pipeline.fit_transform(sentences)\n",
    "\n",
    "# Write to disk. Note! Text column must be named \"text\"\n",
    "df = pd.DataFrame({\"text\": sentences})\n",
    "df['x'] = X_tfm[:, 0]\n",
    "df['y'] = X_tfm[:, 1]"
   ]
  },
  {
   "cell_type": "code",
   "execution_count": 27,
   "id": "f410b06d-ab52-4436-aec4-6cd3639d0026",
   "metadata": {},
   "outputs": [
    {
     "data": {
      "application/vnd.jupyter.widget-view+json": {
       "model_id": "5e8ed8dfd9364b6d92cdac75a6177854",
       "version_major": 2,
       "version_minor": 0
      },
      "text/plain": [
       "HBox(children=(HBox(children=(VBox(children=(Button(button_style='primary', icon='arrows', layout=Layout(width…"
      ]
     },
     "metadata": {},
     "output_type": "display_data"
    },
    {
     "data": {
      "text/plain": [
       "<__main__.BaseTextExplorer at 0x7e42ea8ed000>"
      ]
     },
     "execution_count": 27,
     "metadata": {},
     "output_type": "execute_result"
    }
   ],
   "source": [
    "import jscatter\n",
    "import numpy as np\n",
    "import pandas as pd\n",
    "from ipywidgets import HBox, VBox, HTML, Layout, Button\n",
    "from IPython.display import display\n",
    "\n",
    "class BaseTextExplorer:\n",
    "    def __init__(self, dataf):\n",
    "        self.dataf = dataf\n",
    "        self.scatter = jscatter.Scatter(data=self.dataf, x=\"x\", y=\"y\", width=500, height=500)\n",
    "        self.html = HTML(layout=Layout(width='600px', overflow_y='scroll', height='400px'))\n",
    "        self.sample_btn = Button(description='resample')\n",
    "        self.elem = HBox([scatter.show(), VBox([sample_btn, html])])\n",
    "        \n",
    "        self.scatter.widget.observe(lambda d: self.update(), ['selection'])\n",
    "        self.sample_btn.on_click(lambda d: self.update())\n",
    "\n",
    "    def update(self):\n",
    "        texts = self.dataf.iloc[self.scatter.selection()].sample(10)[\"text\"]\n",
    "        self.html.value = ''.join([f'<p style=\"margin: 0px\">{t}</p>' for t in texts])\n",
    "\n",
    "    def observe(self, func):\n",
    "        self.scatter.widget.observe(func, ['selection'])\n",
    "        \n",
    "    @property\n",
    "    def selected_idx(self):\n",
    "        return self.scatter.selection()\n",
    "\n",
    "    @property\n",
    "    def selected_texts(self):\n",
    "        return list(self.dataf.iloc[self.selection_idx][\"text\"])\n",
    "\n",
    "    @property\n",
    "    def selected_dataframe(self):\n",
    "        return self.dataf.iloc[self.selection_idx]\n",
    "\n",
    "    def _repr_html_(self):\n",
    "        return display(self.elem)\n",
    "\n",
    "BaseTextExplorer(df)"
   ]
  },
  {
   "cell_type": "code",
   "execution_count": null,
   "id": "43536575-10d1-4279-a4e6-cfc4820cbcd7",
   "metadata": {},
   "outputs": [],
   "source": []
  }
 ],
 "metadata": {
  "kernelspec": {
   "display_name": "Python 3 (ipykernel)",
   "language": "python",
   "name": "python3"
  },
  "language_info": {
   "codemirror_mode": {
    "name": "ipython",
    "version": 3
   },
   "file_extension": ".py",
   "mimetype": "text/x-python",
   "name": "python",
   "nbconvert_exporter": "python",
   "pygments_lexer": "ipython3",
   "version": "3.10.13"
  }
 },
 "nbformat": 4,
 "nbformat_minor": 5
}
