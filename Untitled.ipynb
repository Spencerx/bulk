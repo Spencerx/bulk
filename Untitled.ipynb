{
 "cells": [
  {
   "cell_type": "code",
   "execution_count": 25,
   "id": "6a40ca87-3e8e-4e39-8b5c-35c9dfdd3ceb",
   "metadata": {},
   "outputs": [],
   "source": [
    "import pandas as pd\n",
    "from umap import UMAP\n",
    "from sklearn.pipeline import make_pipeline \n",
    "\n",
    "# pip install \"embetter[text]\"\n",
    "from embetter.text import SentenceEncoder\n",
    "\n",
    "# Build a sentence encoder pipeline with UMAP at the end.\n",
    "enc = SentenceEncoder('all-MiniLM-L6-v2')\n",
    "umap = UMAP()\n",
    "\n",
    "text_emb_pipeline = make_pipeline(\n",
    "  enc, umap\n",
    ")\n",
    "\n",
    "# Load sentences\n",
    "sentences = list(pd.read_csv(\"tests/data/text.csv\")['text'])\n",
    "\n",
    "# Calculate embeddings \n",
    "X_tfm = text_emb_pipeline.fit_transform(sentences)\n",
    "\n",
    "# Write to disk. Note! Text column must be named \"text\"\n",
    "df = pd.DataFrame({\"text\": sentences})\n",
    "df['x'] = X_tfm[:, 0]\n",
    "df['y'] = X_tfm[:, 1]"
   ]
  },
  {
   "cell_type": "code",
   "execution_count": 27,
   "id": "1c7064a3-9558-4ca9-841b-6a21f7ea1f27",
   "metadata": {},
   "outputs": [],
   "source": [
    "X = enc.transform(sentences)"
   ]
  },
  {
   "cell_type": "code",
   "execution_count": 65,
   "id": "f410b06d-ab52-4436-aec4-6cd3639d0026",
   "metadata": {},
   "outputs": [
    {
     "data": {
      "application/vnd.jupyter.widget-view+json": {
       "model_id": "c162f29396e24e04956db4cc09fed85c",
       "version_major": 2,
       "version_minor": 0
      },
      "text/plain": [
       "HBox(children=(VBox(children=(Text(value='', description='String:', placeholder='Type something'), HBox(childr…"
      ]
     },
     "execution_count": 65,
     "metadata": {},
     "output_type": "execute_result"
    }
   ],
   "source": [
    "import jscatter\n",
    "import numpy as np\n",
    "import pandas as pd\n",
    "from ipywidgets import HBox, VBox, HTML, Layout, Button, Text\n",
    "from IPython.display import display\n",
    "from sklearn.metrics.pairwise import cosine_similarity\n",
    "\n",
    "class BaseTextExplorer:\n",
    "    def __init__(self, dataf, X=None, encoder=None):\n",
    "        self.dataf = dataf\n",
    "        self.scatter = jscatter.Scatter(data=self.dataf, x=\"x\", y=\"y\", width=500, height=500)\n",
    "        self.html = HTML(layout=Layout(width='600px', overflow_y='scroll', height='400px'))\n",
    "        self.sample_btn = Button(description='resample')\n",
    "        self.elem = HBox([self.scatter.show(), VBox([self.sample_btn, self.html])])\n",
    "        self.X = X\n",
    "        self.encoder = encoder\n",
    "        \n",
    "        if self.encoder and (self.X is not None):\n",
    "            self.text_input = Text(value='', placeholder='Type something', description='String:')\n",
    "            self.elem = HBox([VBox([self.text_input, self.scatter.show()]), VBox([self.sample_btn, self.html])])\n",
    "\n",
    "            def update_text(change):\n",
    "                X_tfm = encoder.transform([self.text_input.value])\n",
    "                dists = cosine_similarity(X, X_tfm).reshape(1, -1)\n",
    "                self.dists = dists\n",
    "                norm_dists = 0.01 + (dists - dists.min())/(0.1 + dists.max() - dists.min())\n",
    "                print(norm_dists)\n",
    "                explorer.scatter.color(by=norm_dists[0])\n",
    "                explorer.scatter.size(by=norm_dists[0])\n",
    "\n",
    "            self.text_input.observe(update_text)\n",
    "        \n",
    "        self.scatter.widget.observe(lambda d: self.update(), ['selection'])\n",
    "        self.sample_btn.on_click(lambda d: self.update())\n",
    "\n",
    "    def show(self):\n",
    "        return self.elem\n",
    "\n",
    "    def update(self):\n",
    "        if len(self.scatter.selection()) > 10:\n",
    "            texts = self.dataf.iloc[self.scatter.selection()].sample(10)[\"text\"]\n",
    "        else:\n",
    "            texts = self.dataf.iloc[self.scatter.selection()][\"text\"]\n",
    "        self.html.value = ''.join([f'<p style=\"margin: 0px\">{t}</p>' for t in texts])\n",
    "\n",
    "    def observe(self, func):\n",
    "        self.scatter.widget.observe(func, ['selection'])\n",
    "        \n",
    "    @property\n",
    "    def selected_idx(self):\n",
    "        return self.scatter.selection()\n",
    "\n",
    "    @property\n",
    "    def selected_texts(self):\n",
    "        return list(self.dataf.iloc[self.selection_idx][\"text\"])\n",
    "\n",
    "    @property\n",
    "    def selected_dataframe(self):\n",
    "        return self.dataf.iloc[self.selection_idx]\n",
    "\n",
    "    def _repr_html_(self):\n",
    "        return display(self.elem)\n",
    "\n",
    "explorer = BaseTextExplorer(df, encoder=enc, X=X)\n",
    "explorer.show()"
   ]
  },
  {
   "cell_type": "code",
   "execution_count": 62,
   "id": "43536575-10d1-4279-a4e6-cfc4820cbcd7",
   "metadata": {},
   "outputs": [
    {
     "data": {
      "text/plain": [
       "(array([  17.,  117.,  599., 1201., 1343.,  972.,  499.,  189.,   52.,\n",
       "          12.]),\n",
       " array([-0.15284741, -0.11057327, -0.06829913, -0.02602499,  0.01624916,\n",
       "         0.0585233 ,  0.10079744,  0.14307158,  0.18534572,  0.22761986,\n",
       "         0.269894  ]),\n",
       " <BarContainer object of 10 artists>)"
      ]
     },
     "execution_count": 62,
     "metadata": {},
     "output_type": "execute_result"
    },
    {
     "data": {
      "image/png": "[encoded data removed]",
      "text/plain": [
       "<Figure size 640x480 with 1 Axes>"
      ]
     },
     "metadata": {},
     "output_type": "display_data"
    }
   ],
   "source": [
    "import matplotlib.pylab as plt\n",
    "\n",
    "plt.hist(explorer.dists[0])"
   ]
  },
  {
   "cell_type": "code",
   "execution_count": 63,
   "id": "fd2e229c-92d4-4ae6-834d-3f9aec3365b0",
   "metadata": {},
   "outputs": [],
   "source": [
    "dists = explorer.dists[0]"
   ]
  },
  {
   "cell_type": "code",
   "execution_count": 64,
   "id": "4f22bd0f-9634-48c5-933e-4766a0fc05b2",
   "metadata": {},
   "outputs": [
    {
     "data": {
      "text/plain": [
       "(array([  17.,  117.,  599., 1201., 1343.,  972.,  499.,  189.,   52.,\n",
       "          12.]),\n",
       " array([-0.71312487, -0.61312485, -0.51312488, -0.41312486, -0.31312487,\n",
       "        -0.21312486, -0.11312485, -0.01312485,  0.08687516,  0.18687515,\n",
       "         0.28687516]),\n",
       " <BarContainer object of 10 artists>)"
      ]
     },
     "execution_count": 64,
     "metadata": {},
     "output_type": "execute_result"
    },
    {
     "data": {
      "image/png": "[encoded data removed]",
      "text/plain": [
       "<Figure size 640x480 with 1 Axes>"
      ]
     },
     "metadata": {},
     "output_type": "display_data"
    }
   ],
   "source": [
    "plt.hist(0.01 + (dists.min() + dists)/(dists.max() - dists.min()))"
   ]
  },
  {
   "cell_type": "code",
   "execution_count": null,
   "id": "0953f217-7cf6-4f50-8711-9514e8013f56",
   "metadata": {},
   "outputs": [],
   "source": []
  }
 ],
 "metadata": {
  "kernelspec": {
   "display_name": "Python 3 (ipykernel)",
   "language": "python",
   "name": "python3"
  },
  "language_info": {
   "codemirror_mode": {
    "name": "ipython",
    "version": 3
   },
   "file_extension": ".py",
   "mimetype": "text/x-python",
   "name": "python",
   "nbconvert_exporter": "python",
   "pygments_lexer": "ipython3",
   "version": "3.10.13"
  }
 },
 "nbformat": 4,
 "nbformat_minor": 5
}
